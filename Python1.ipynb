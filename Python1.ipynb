{
 "cells": [
  {
   "cell_type": "code",
   "execution_count": null,
   "id": "46f0762c-7955-4f2b-adfb-9e0a9ebc1486",
   "metadata": {},
   "outputs": [],
   "source": [
    "# Part A — Basic Function Concepts (Single Return Values)\n",
    "# 1.\tWrite a function wish(name) that returns \"Hello, Good Morning <name>!\".\n",
    "# 2.\tWrite a function cube(n) that returns the cube of a number (n³).\n",
    "# 3.\tWrite a function check_even(n) that returns True if the number is even, else False.\n",
    "# 4.\tWrite a function greatest_of_two(a, b) that returns the larger of two numbers.\n",
    "# 5.\tWrite a function count_letters(s) that returns the number of characters in a string.\n",
    "# 6.\tWrite a function power(value, exp=2) that returns the number raised to the power exp. (Default exponent = 2)"
   ]
  },
  {
   "cell_type": "code",
   "execution_count": null,
   "id": "f51c75db-1b9e-418a-ae56-2b5129600d19",
   "metadata": {},
   "outputs": [],
   "source": [
    "#1. Write a function wish(name) that returns \"Hello, Good Morning <name>!\".\n",
    "def wish(name):\n",
    "    return \"Hello, Good Morning \" + name + \"!\"\n",
    "print(wish(\"bala\"))\n"
   ]
  },
  {
   "cell_type": "code",
   "execution_count": null,
   "id": "f85452f7-4636-4802-8b02-bb00f4376c78",
   "metadata": {},
   "outputs": [],
   "source": [
    "# 2.\tWrite a function cube(n) that returns the cube of a number (n³).\n",
    "def cube(n):\n",
    "    return n**3\n",
    "print(cube(3))\n",
    "print(cube(4))"
   ]
  },
  {
   "cell_type": "code",
   "execution_count": null,
   "id": "ff1221bf-8705-4e3e-a00b-10749577c8cd",
   "metadata": {},
   "outputs": [],
   "source": [
    "# 3.\tWrite a function check_even(n) that returns True if the number is even, else False.\n",
    "def check_even(n):\n",
    "    return n % 2 == 0\n",
    "check_even(4)\n"
   ]
  },
  {
   "cell_type": "code",
   "execution_count": null,
   "id": "02ef5cd9-38b0-4d12-88ce-da8134526ccb",
   "metadata": {},
   "outputs": [],
   "source": [
    "check_even(3)"
   ]
  },
  {
   "cell_type": "code",
   "execution_count": null,
   "id": "5c269243-b00c-47b4-af58-c96ca8caba33",
   "metadata": {},
   "outputs": [],
   "source": [
    "# 4.\tWrite a function greatest_of_two(a, b) that returns the larger of two numbers.\n",
    "def greatest_of_two(a, b):\n",
    "    return a if a > b else b\n",
    "greatest_of_two(100,50)"
   ]
  },
  {
   "cell_type": "code",
   "execution_count": null,
   "id": "8b7f129e-17b0-408c-9174-569fe9f1453b",
   "metadata": {},
   "outputs": [],
   "source": [
    "# 5.Write a function count_letters(s) that returns the number of characters in a string.\n",
    "def count_letters(s):\n",
    "    return len(s)\n",
    "count_letters(\"helllo\")"
   ]
  },
  {
   "cell_type": "code",
   "execution_count": null,
   "id": "56522f7d-02ad-40f5-802d-caaa2440377d",
   "metadata": {},
   "outputs": [],
   "source": [
    "# 6.\tWrite a function power(value, exp=2) that returns the number raised to the power exp. (Default exponent = 2)\n",
    "def power(value, exp=2):\n",
    "    return value ** exp\n",
    "print(power(2))\n",
    "print(power(4))"
   ]
  },
  {
   "cell_type": "code",
   "execution_count": null,
   "id": "ee57e761-9eb4-4e0f-b077-d8e13cf78977",
   "metadata": {},
   "outputs": [],
   "source": [
    "# Part B — Returning Multiple Values\n",
    "# 7.\tWrite a function swap(a, b) that returns the two values swapped as a tuple.\n",
    "# 8.\tWrite a function add_sub(a, b) that returns both sum and difference of two numbers.\n",
    "# 9.\tWrite a function circle_stats(radius) that returns the area and circumference as a tuple.\n",
    "# 10.\tWrite a function min_max_sum(nums) that returns the minimum, maximum, and sum of a list\n"
   ]
  },
  {
   "cell_type": "code",
   "execution_count": null,
   "id": "7f611ca8-d4e3-43d2-866f-2661b2561075",
   "metadata": {},
   "outputs": [],
   "source": [
    "# 7.\tWrite a function swap(a, b) that returns the two values swapped as a tuple.\n",
    "def swap(a,b):\n",
    "    return b,a\n",
    "swap(10,20)"
   ]
  },
  {
   "cell_type": "code",
   "execution_count": null,
   "id": "438b5792-e0d2-4ac8-8130-7940eade1c9b",
   "metadata": {},
   "outputs": [],
   "source": [
    "# 8.\tWrite a function add_sub(a, b) that returns both sum and difference of two numbers.\n",
    "def add_sub(a, b):\n",
    "    return a + b, a - b\n",
    "sum_result,diff_result = add_sub(10, 5)\n",
    "print(\"Sum:\", sum_result)       \n",
    "print(\"Difference:\",diff_result) "
   ]
  },
  {
   "cell_type": "code",
   "execution_count": null,
   "id": "e9a4c6c2-c401-43e6-a277-844fa3bedf8c",
   "metadata": {},
   "outputs": [],
   "source": [
    "# 9.\tWrite a function circle_stats(radius) that returns the area and circumference as a tuple.\n",
    "import math\n",
    "def circle_stats(radius):\n",
    "    area = math.pi * radius ** 2\n",
    "    circumference = 2 * math.pi * radius\n",
    "    return area, circumference\n",
    "circle_stats(5)\n",
    "print(\"Area:\", area)           \n",
    "print(\"Circumference:\", circ) \n",
    "\n"
   ]
  },
  {
   "cell_type": "code",
   "execution_count": null,
   "id": "6c4677b6-da45-45e0-a9d1-f9ac07087666",
   "metadata": {},
   "outputs": [],
   "source": [
    "# 10.\tWrite a function min_max_sum(nums) that returns the minimum, maximum, and sum of a list\n",
    "def min_max_sum(nums):\n",
    "    return min(nums), max(nums), sum(nums)\n",
    "nums=[4, 7, 1, 9, 3]\n",
    "minimum, maximum, total = min_max_sum(numbers)\n",
    "print(\"Minimum:\", minimum)  \n",
    "print(\"Maximum:\", maximum)  \n",
    "print(\"Sum:\", total)        \n"
   ]
  },
  {
   "cell_type": "code",
   "execution_count": null,
   "id": "1f1aaa0a-b23e-4dd4-8940-9b7233581f77",
   "metadata": {},
   "outputs": [],
   "source": [
    "#  Part C — Working with Strings & Formatting\n",
    "# 11.\tWrite a function concat(*parts) that joins multiple strings together with spaces.\n",
    "# 12.\tWrite a function format_name(first, last=\"\") that returns \"Last, First\" if last name is provided, else \"First\".\n",
    "# 13.\tWrite a function greet_user(first, last) that returns a message like \"Welcome, First Last!\"\n"
   ]
  },
  {
   "cell_type": "code",
   "execution_count": null,
   "id": "485a1e85-3491-42eb-881e-894f538a58fb",
   "metadata": {},
   "outputs": [],
   "source": [
    "# 11.\tWrite a function concat(*parts) that joins multiple strings together with spaces.\n",
    "def concat(*parts):\n",
    "    return ' '.join(parts)\n",
    "result = concat(\"Hello\", \"Good\", \"Morning\")\n",
    "print(result) \n",
    "result2 = concat(\"Python\", \"is\", \"fun\")\n",
    "print(result2)\n"
   ]
  },
  {
   "cell_type": "code",
   "execution_count": null,
   "id": "7a36a1b6-0dcd-4646-bafb-0a6a3cd32c23",
   "metadata": {},
   "outputs": [],
   "source": [
    "# 12.\tWrite a function format_name(first, last=\"\") that returns \"Last, First\" if last name is provided, else \"First\"\n",
    "def format_name(first, last=\"\"):\n",
    "    if last:\n",
    "        return f\"{last}, {first}\"\n",
    "    else:\n",
    "        return first\n",
    "print(format_name(\"John\", \"Doe\")) \n",
    "print(format_name(\"Alice\"))         \n"
   ]
  },
  {
   "cell_type": "code",
   "execution_count": null,
   "id": "2846bd19-9973-4221-81d3-d2ca7efea2ed",
   "metadata": {},
   "outputs": [],
   "source": [
    " # 13.\tWrite a function greet_user(first, last) that returns a message like \"Welcome, First Last!\"\n",
    "def greet_user(first, last):\n",
    "    return f\"Welcome, {first} {last}!\"\n",
    "print(greet_user(\"John\", \"Doe\"))\n",
    "print(greet_user(\"Alice\", \"Smith\"))\n"
   ]
  },
  {
   "cell_type": "code",
   "execution_count": null,
   "id": "bd70791f-a628-4f2c-a30c-c83d84416020",
   "metadata": {},
   "outputs": [],
   "source": [
    "# Part D — Lambda Functions\n",
    "# 14.\tWrite a lambda function to add two numbers.\n",
    "# 15.\tWrite a lambda function mult = lambda *args: that returns the product of all arguments.\n",
    "# 16.\tWrite a one-line lambda expression to flatten a list of pairs like [(a,b), (c,d)] into [a, b, c, d].\n"
   ]
  },
  {
   "cell_type": "code",
   "execution_count": null,
   "id": "86853506-4494-44f4-a8ba-8e0f2b932c2d",
   "metadata": {},
   "outputs": [],
   "source": [
    "# 14.\tWrite a lambda function to add two numbers.\n",
    "add = lambda x, y: x + y\n",
    "print(add(5, 3))\n",
    "print(add(10,5))\n"
   ]
  },
  {
   "cell_type": "code",
   "execution_count": null,
   "id": "fb9770a5-5428-4d71-aaec-94c4ab02f229",
   "metadata": {},
   "outputs": [],
   "source": [
    "# 15.\tWrite a lambda function mult = lambda *args: that returns the product of all arguments.\n",
    "def mult(*args):\n",
    "    result = 1\n",
    "    for num in args:\n",
    "        result *= num\n",
    "    return result\n",
    "print(mult(10,6,2))\n",
    "print(mult(5,3))\n",
    "print(mult(3))\n",
    "print(mult())"
   ]
  },
  {
   "cell_type": "code",
   "execution_count": null,
   "id": "f97956e0-f008-4bcb-b213-7823a49339db",
   "metadata": {},
   "outputs": [],
   "source": [
    " # 16.\tWrite a one-line lambda expression to flatten a list of pairs like [(a,b), (c,d)] into [a, b, c, d].\n",
    "flat=lambda data: [item for pair in data for item in pair]\n",
    "print(flat([(1,2),(3,4)]))"
   ]
  },
  {
   "cell_type": "code",
   "execution_count": null,
   "id": "3359e6a6-1ac4-44a7-8c55-5b0a7543ecb8",
   "metadata": {},
   "outputs": [],
   "source": [
    "# Part E — Recursive, Higher-Order & Inner Functions\n",
    "# 17.\tWrite a recursive function factorial(n) that returns the factorial of a number.\n",
    "# 18.\tWrite a function apply_twice(func, x) that applies a function twice → func(func(x)).\n",
    "# 19.\tWrite a function inner_demo() that defines and calls an inner function inside it.\n",
    "# 20.\tWrite a function call_function(func, value) that takes another function as a parameter and applies it.\n",
    "# 21.\tWrite a function square_list(nums) that defines a helper function square(x) inside it and returns a list of squares.\n"
   ]
  },
  {
   "cell_type": "code",
   "execution_count": null,
   "id": "56e285e6-3258-4d7e-9b56-e2ca0462fe8a",
   "metadata": {},
   "outputs": [],
   "source": [
    "# 17.\tWrite a recursive function factorial(n) that returns the factorial of a number.\n",
    "def factorial(n):\n",
    "    if n == 0 or n == 1:\n",
    "        return 1\n",
    "    else:\n",
    "        return n*factorial(n-1)\n",
    "print(factorial(1))\n",
    "print(factorial(3))"
   ]
  },
  {
   "cell_type": "code",
   "execution_count": null,
   "id": "7dc655c7-eb38-43a3-95f0-2f4de9388ccb",
   "metadata": {},
   "outputs": [],
   "source": [
    "# 18.\tWrite a function apply_twice(func, x) that applies a function twice → func(func(x)).\n",
    "def apply_twice(func, x):\n",
    "    first = func(func(x))  \n",
    "    return first\n",
    "def add(n):\n",
    "    return n+2\n",
    "print(apply_twice(add,5))\n"
   ]
  },
  {
   "cell_type": "code",
   "execution_count": null,
   "id": "73e33711-0b36-43c9-9b0c-eb4a15c35f3c",
   "metadata": {},
   "outputs": [],
   "source": [
    "# 19.\tWrite a function inner_demo() that defines and calls an inner function inside it.\n",
    "def inner_demo():\n",
    "    def inner():\n",
    "        print( \"Hello !\")\n",
    "    inner()\n",
    "inner_demo()"
   ]
  },
  {
   "cell_type": "code",
   "execution_count": null,
   "id": "0cdcb69f-3faf-43d1-800e-4807ecf2f331",
   "metadata": {},
   "outputs": [],
   "source": [
    "def inner_demo():\n",
    "    def inner(x):\n",
    "        return x*2  \n",
    "    result=inner(5) \n",
    "    return f\"The result is {result}\"\n",
    "print(inner_demo())"
   ]
  },
  {
   "cell_type": "code",
   "execution_count": null,
   "id": "fe8cf654-87f6-440e-9317-8b2169cc09aa",
   "metadata": {},
   "outputs": [],
   "source": [
    "# 20.\tWrite a function call_function(func, value) that takes another function as a parameter and applies it.\n",
    "def call_function(func, value):\n",
    "    return func(value)\n",
    "def square(n):\n",
    "    return n**2\n",
    "result = call_function(square, 5)\n",
    "print(result) \n"
   ]
  },
  {
   "cell_type": "code",
   "execution_count": null,
   "id": "84ac150c-782c-4001-9352-53dd28849445",
   "metadata": {},
   "outputs": [],
   "source": [
    "# 20.\tWrite a function call_function(func, value) that takes another function as a parameter and applies it.\n",
    "def call_function(func, value):\n",
    "    return func(value)\n",
    "def square(n):\n",
    "    return n**2\n",
    "result = call_function(square, 5)\n",
    "print(result) \n"
   ]
  },
  {
   "cell_type": "code",
   "execution_count": 7,
   "id": "4ae41321",
   "metadata": {},
   "outputs": [
    {
     "name": "stdout",
     "output_type": "stream",
     "text": [
      "[1, 4, 9, 16, 25]\n"
     ]
    }
   ],
   "source": [
    "# 21.\tWrite a function square_list(nums) that defines a helper function square(x) inside it and returns a list of squares.\n",
    "def square_list(nums):\n",
    "  def square(x):\n",
    "    return x * x\n",
    "  return [square(num) for num in nums]\n",
    "\n",
    "result = square_list([1, 2, 3, 4, 5])\n",
    "print(result)"
   ]
  },
  {
   "cell_type": "code",
   "execution_count": null,
   "id": "23a10e2d-7d6a-4185-b69d-44bf6dab10d1",
   "metadata": {},
   "outputs": [],
   "source": [
    "# Part F — Intermediate Function Concepts\n",
    "# 22.\tWrite a function make_multiplier(m) that returns a new function which multiplies input values by m.\n",
    "# 23.\tWrite a function filter_primes(nums) that filters prime numbers using a helper is_prime() function.\n",
    "# 24.\tWrite a function convert_to_fahrenheit(celsius_list) using map and a lambda.\n",
    "# Formula: F = C * 9/5 + 32\n",
    "# 25.\tWrite a function apply_if(func, predicate, iterable) that applies a function only to items that pass a condition.\n",
    "# 26.\tWrite a function curry(func) that converts a two-argument function into a curried version → can be called as f(a)(b).\n",
    "# 27.\tWrite a function variadic_sum(*args, **kwargs) that sums all positional arguments and multiplies by a scale factor if provided.\n",
    "# 28.\tWrite a function sort_by_length(strings) that sorts a list of strings by their length using a lambda as key."
   ]
  },
  {
   "cell_type": "code",
   "execution_count": null,
   "id": "6b9c5c8e-395d-461f-bb1b-d90b6a640e85",
   "metadata": {},
   "outputs": [],
   "source": [
    "# 22.\tWrite a function make_multiplier(m) that returns a new function which multiplies input values by m.\n",
    "def make_multiplers(m):\n",
    "    def multipliers(x):\n",
    "        return x*m\n",
    "    return multipliers\n",
    "a=make_multiplers(2)\n",
    "b=make_multiplers(3)\n",
    "print(a(5))\n",
    "print(b(3))"
   ]
  },
  {
   "cell_type": "code",
   "execution_count": null,
   "id": "f20de24f-2f03-4024-9448-19d4b9b8bd43",
   "metadata": {},
   "outputs": [],
   "source": [
    "# 23.\tWrite a function filter_primes(nums) that filters prime numbers using a helper is_prime() function.\n",
    "def filter_primes(nums):\n",
    "    def is_prime(n):\n",
    "        if n<2:\n",
    "            return False\n",
    "        for i in range(2,n+1):  #for i in range(2,int(n*0.5)+1):\n",
    "            if n%2==0:\n",
    "                return False\n",
    "        return True\n",
    "    return [num for num in nums if is_prime(num)]\n",
    "nums=[1,2,4,3,9,11]\n",
    "print(filter_primes(nums))"
   ]
  },
  {
   "cell_type": "code",
   "execution_count": null,
   "id": "1f6bcab5-8ce1-4211-9c33-339d3736ab20",
   "metadata": {},
   "outputs": [],
   "source": [
    "# 24.\tWrite a function convert_to_fahrenheit(celsius_list) using map and a lambda.\n",
    "# Formula: F = C * 9/5 + 32\n",
    "def convert_to_fahrenheit(celsius_list):\n",
    "    return list(map(lambda c:c*9/5+32,celsius_list))\n",
    "temperature_celsius=[100,20,-130]\n",
    "temperature_fahrenheit=convert_to_fahrenheit(temperature_celsius)\n",
    "print(temperature_fahrenheit)"
   ]
  },
  {
   "cell_type": "code",
   "execution_count": 9,
   "id": "d6bd6049-997c-4ca4-9e63-25b40a368459",
   "metadata": {},
   "outputs": [
    {
     "name": "stdout",
     "output_type": "stream",
     "text": [
      "[1, 4, 3, 8, 5, 12]\n"
     ]
    }
   ],
   "source": [
    "# 25.Write a function apply_if(func, predicate, iterable) that applies a function only to items that pass a condition.\n",
    "def apply_if(func, predicate, iterable):\n",
    "    result=[]\n",
    "    for item in iterable:\n",
    "        if predicate(item):\n",
    "            result.append(func(item))\n",
    "        else:\n",
    "            result.append(item)\n",
    "    return result\n",
    "numbers=[1,2,3,4,5,6]\n",
    "def double(x):\n",
    "    return x*2\n",
    "def is_even(x):\n",
    "    return x%2==0\n",
    "print(apply_if(double,is_even,numbers))"
   ]
  },
  {
   "cell_type": "code",
   "execution_count": 21,
   "id": "a12b755e-6513-4756-8286-6cd05d4d3264",
   "metadata": {},
   "outputs": [
    {
     "name": "stdout",
     "output_type": "stream",
     "text": [
      "8\n",
      "9\n"
     ]
    }
   ],
   "source": [
    "# 26.\tWrite a function curry(func) that converts a two-argument function into a curried version → can be called as f(a)(b).\n",
    "def curry(func):\n",
    "    def curried_function(a):\n",
    "        def inner_function(b):\n",
    "            return func(a,b)\n",
    "        return inner_function\n",
    "    return curried_function\n",
    "def add(x,y):\n",
    "    return x+y\n",
    "curried_add=curry(add)\n",
    "print(curried_add(3)(5))\n",
    "print(curried_add(4)(5))"
   ]
  },
  {
   "cell_type": "code",
   "execution_count": 23,
   "id": "fd5b7aa3-edec-462c-a790-9b3cd47c59ba",
   "metadata": {},
   "outputs": [
    {
     "name": "stdout",
     "output_type": "stream",
     "text": [
      "12\n"
     ]
    }
   ],
   "source": [
    "# 27.\tWrite a function variadic_sum(*args, **kwargs) that sums all positional arguments and multiplies by a scale factor if provided.\n",
    "def variadic_sum(*args,**kwargs):\n",
    "    total=sum(args)\n",
    "    scale_factor=kwargs.get('scale_factor',1)\n",
    "    return total*scale_factor\n",
    "print(variadic_sum(1,2,3,scale_factor=2))"
   ]
  },
  {
   "cell_type": "code",
   "execution_count": 27,
   "id": "d57c0a43-ce61-43f9-ba21-b764d10c0155",
   "metadata": {},
   "outputs": [
    {
     "name": "stdout",
     "output_type": "stream",
     "text": [
      "['date', 'apple', 'banana', 'cherry']\n"
     ]
    }
   ],
   "source": [
    "# 28.\tWrite a function sort_by_length(strings) that sorts a list of strings by their length using a lambda as key.\n",
    "def sort_by_length(strings):\n",
    "  return sorted(strings,key=lambda x:len(x))\n",
    "print(sort_by_length([\"apple\",\"banana\",\"cherry\",\"date\"]))\n"
   ]
  },
  {
   "cell_type": "code",
   "execution_count": 29,
   "id": "6e5cc0dd-5df0-4786-bf31-bd67213bb769",
   "metadata": {},
   "outputs": [],
   "source": [
    "# Topic 2 — List Comprehensions\n",
    "# Part A — Basic Comprehension Practice\n",
    "# 29.\tCreate [1,2,3,4] → list of their squares.\n",
    "# 30.\tCreate ['a','b','c'] → list of their uppercase versions.\n",
    "# 31.\tMake a list of even numbers from 1 to 20.\n",
    "# 32.\tGiven words = ['apple', 'bee', 'cat'], create [(word, len(word)) for word in words].\n",
    "# 33.\tFlatten [[1,2], [3,4], [5]] → [1,2,3,4,5].\n",
    "# 34.\tFrom nums = [0,1,2,3], create a list of 'even' or 'odd' strings.\n",
    "# 35.\tUsing a comprehension, make a list of booleans showing if numbers in a list are prime (use helper function).\n",
    "# 36.\tFrom range(1,50), select numbers divisible by both 2 and 3.\n",
    "# 37.\tCreate coordinate pairs (i, j) where i and j go from 0 to 2.\n",
    "# 38.\tFrom ['a b','c d e'], produce a flat list of all words.\n"
   ]
  },
  {
   "cell_type": "code",
   "execution_count": 33,
   "id": "a8992a18-2008-4e11-85b9-b0a4a920d9bd",
   "metadata": {},
   "outputs": [
    {
     "name": "stdout",
     "output_type": "stream",
     "text": [
      "[1, 4, 9, 16]\n"
     ]
    }
   ],
   "source": [
    "# 29.\tCreate [1,2,3,4] → list of their squares.\n",
    "numbers=[1,2,3,4]\n",
    "squares=[x**2 for x in numbers]\n",
    "print(squares)"
   ]
  },
  {
   "cell_type": "code",
   "execution_count": 35,
   "id": "35154ce0-d059-4d42-8ede-4b5f580d63f7",
   "metadata": {},
   "outputs": [
    {
     "name": "stdout",
     "output_type": "stream",
     "text": [
      "['A', 'B', 'C']\n"
     ]
    }
   ],
   "source": [
    "# 30.\tCreate ['a','b','c'] → list of their uppercase versions.\n",
    "list=['a','b','c']\n",
    "upper_case=[x.upper() for x in list]\n",
    "print(upper_case)"
   ]
  },
  {
   "cell_type": "code",
   "execution_count": 50,
   "id": "2fc6973b-f671-4435-a5d6-593f4aa0db59",
   "metadata": {},
   "outputs": [
    {
     "name": "stdout",
     "output_type": "stream",
     "text": [
      "[2, 4, 6, 8, 10, 12, 14, 16, 18, 20]\n"
     ]
    }
   ],
   "source": [
    "# 31.\tMake a list of even numbers from 1 to 20.\n",
    "even=[x for x in range(1,21) if x%2==0]\n",
    "print(even)"
   ]
  },
  {
   "cell_type": "code",
   "execution_count": 52,
   "id": "1028288f-cf9a-470f-958b-b92b285f5b93",
   "metadata": {},
   "outputs": [
    {
     "name": "stdout",
     "output_type": "stream",
     "text": [
      "[('apple', 5), ('bee', 3), ('cat', 3)]\n"
     ]
    }
   ],
   "source": [
    "# 32.\tGiven words = ['apple', 'bee', 'cat'], create [(word, len(word)) for word in words].\n",
    "words=['apple', 'bee', 'cat']\n",
    "print([(word,len(word)) for word in words])"
   ]
  },
  {
   "cell_type": "code",
   "execution_count": 54,
   "id": "d6d263fb-d18a-4f68-aad1-7241c97f3758",
   "metadata": {},
   "outputs": [
    {
     "name": "stdout",
     "output_type": "stream",
     "text": [
      "[1, 2, 3, 4, 5]\n"
     ]
    }
   ],
   "source": [
    "# 33.\tFlatten [[1,2], [3,4], [5]] → [1,2,3,4,5].\n",
    "list1=[[1,2],[3,4],[5]]\n",
    "flattened=[item for sublist in list1 for item in sublist]\n",
    "print(flattened)"
   ]
  },
  {
   "cell_type": "code",
   "execution_count": 56,
   "id": "00dfd55e-fcdf-4ac3-a26d-d99aef82dfb5",
   "metadata": {},
   "outputs": [
    {
     "name": "stdout",
     "output_type": "stream",
     "text": [
      "['even', 'odd', 'even', 'odd']\n"
     ]
    }
   ],
   "source": [
    "# 34.\tFrom nums = [0,1,2,3], create a list of 'even' or 'odd' strings.\n",
    "nums=[0,1,2,3]\n",
    "even_odd=['even' if x%2==0 else 'odd' for x in nums]\n",
    "print(even_odd)\n"
   ]
  },
  {
   "cell_type": "code",
   "execution_count": 58,
   "id": "48bb183f-4917-4db7-8487-265d15e40bc7",
   "metadata": {},
   "outputs": [
    {
     "name": "stdout",
     "output_type": "stream",
     "text": [
      "[True, True, True, False, True, False, True, False, False, False]\n"
     ]
    }
   ],
   "source": [
    "# 35.\tUsing a comprehension, make a list of booleans showing if numbers in a list are prime (use helper function).\n",
    "def is_prime(num):\n",
    "  for i in range(2,num):\n",
    "    if num%i==0:\n",
    "      return False\n",
    "  return True\n",
    "numbers=[1,2,3,4,5,6,7,8,9,10]\n",
    "print([is_prime(num) for num in numbers])\n"
   ]
  },
  {
   "cell_type": "code",
   "execution_count": 63,
   "id": "08fe5be4-d047-40d8-9726-afad61dd6084",
   "metadata": {},
   "outputs": [
    {
     "name": "stdout",
     "output_type": "stream",
     "text": [
      "[6, 12, 18, 24, 30, 36, 42, 48]\n"
     ]
    }
   ],
   "source": [
    "# 36.\tFrom range(1,50), select numbers divisible by both 2 and 3.\n",
    "list1=[x for x in range(1,50) if x%2==0 and x%3==0]\n",
    "print(list1)"
   ]
  },
  {
   "cell_type": "code",
   "execution_count": 65,
   "id": "152c9d97-04cd-48e0-9ced-ac61a19e36ca",
   "metadata": {},
   "outputs": [
    {
     "name": "stdout",
     "output_type": "stream",
     "text": [
      "[(0, 0), (0, 1), (0, 2), (1, 0), (1, 1), (1, 2), (2, 0), (2, 1), (2, 2)]\n"
     ]
    }
   ],
   "source": [
    "# 37.\tCreate coordinate pairs (i, j) where i and j go from 0 to 2.\n",
    "coordinates = [(i, j) for i in range(3) for j in range(3)]\n",
    "print(coordinates)"
   ]
  },
  {
   "cell_type": "code",
   "execution_count": 71,
   "id": "1aeb783c-63a3-47a7-8745-1ac4d8d1b2b2",
   "metadata": {},
   "outputs": [
    {
     "name": "stdout",
     "output_type": "stream",
     "text": [
      "['a', 'b', 'c', 'd', 'e']\n"
     ]
    }
   ],
   "source": [
    "# 38.\tFrom ['a b','c d e'], produce a flat list of all words.\n",
    "data = ['a b', 'c d e']\n",
    "words = [word for phrase in data for word in phrase.split()]\n",
    "print(words)\n"
   ]
  },
  {
   "cell_type": "code",
   "execution_count": 73,
   "id": "8e24758d-21d5-4b29-be0e-ca60a1b72725",
   "metadata": {},
   "outputs": [],
   "source": [
    "# Part B — Using Lists of Dictionaries\n",
    "# 39.\tGiven students = [{'name':'A','score':80}, {'name':'B','score':60}], Create a list of names of students with score ≥ 75.\n",
    "# 40.\tBuild a list of dictionaries like {'n': n, 'square': n*n} for numbers 1 to 10.\n",
    "# 41.\tMerge two lists element-wise into tuples, but include only pairs where both elements are truthy.\n",
    "# 42.\tCreate a comprehension to transpose a matrix (swap rows ↔ columns).\n"
   ]
  },
  {
   "cell_type": "code",
   "execution_count": 81,
   "id": "a46e8860-a2cb-49f3-8531-5901ca7701da",
   "metadata": {},
   "outputs": [
    {
     "name": "stdout",
     "output_type": "stream",
     "text": [
      "['A']\n"
     ]
    }
   ],
   "source": [
    "# 39.\tGiven students = [{'name':'A','score':80}, {'name':'B','score':60}], Create a list of names of students with score ≥ 75.\n",
    "students = [{'name': 'A', 'score': 80}, {'name': 'B', 'score': 60}]\n",
    "top_students = [s['name'] for s in students if s['score'] >= 75]\n",
    "print(top_students)"
   ]
  },
  {
   "cell_type": "code",
   "execution_count": 83,
   "id": "03a77eba-bea8-4703-984b-aab6c868c9c1",
   "metadata": {},
   "outputs": [
    {
     "name": "stdout",
     "output_type": "stream",
     "text": [
      "{1: 1, 2: 4, 3: 9, 4: 16, 5: 25, 6: 36, 7: 49, 8: 64, 9: 81}\n"
     ]
    }
   ],
   "source": [
    "# 40.\tBuild a list of dictionaries like {'n': n, 'square': n*n} for numbers 1 to 10.\n",
    "dict_square={n:n*n for n in range(1,10)}\n",
    "print(dict_square)"
   ]
  },
  {
   "cell_type": "code",
   "execution_count": 87,
   "id": "774a0349-e53d-4ba8-a48b-f56b05769135",
   "metadata": {},
   "outputs": [
    {
     "name": "stdout",
     "output_type": "stream",
     "text": [
      "[(1, 2), (5, 10)]\n"
     ]
    }
   ],
   "source": [
    "# 41.\tMerge two lists element-wise into tuples, but include only pairs where both elements are truthy.\n",
    "list1 = [1, 0, 3, '', 5]\n",
    "list2 = [2, 4, None, 8, 10]\n",
    "merge = [(a, b) for a, b in zip(list1, list2) if a and b]\n",
    "print(merge)"
   ]
  },
  {
   "cell_type": "code",
   "execution_count": 89,
   "id": "73f80afe-2153-4e23-9cc2-ed0bb38632b6",
   "metadata": {},
   "outputs": [
    {
     "name": "stdout",
     "output_type": "stream",
     "text": [
      "[[1, 4], [2, 5], [3, 6]]\n"
     ]
    }
   ],
   "source": [
    "# 42.\tCreate a comprehension to transpose a matrix (swap rows ↔ columns).\n",
    "matrix = [\n",
    "    [1, 2, 3],\n",
    "    [4, 5, 6]\n",
    "]\n",
    "transposed = [[row[i] for row in matrix] for i in range(len(matrix[0]))]\n",
    "print(transposed)"
   ]
  },
  {
   "cell_type": "code",
   "execution_count": 103,
   "id": "7fa38065-fb5e-47c1-9a90-59e8c7357fb0",
   "metadata": {},
   "outputs": [],
   "source": [
    "# Part C — Advanced Comprehensions\n",
    "# 43.\tFlatten a 3-level nested list [[[1,2],[3]],[[4]]] into a single flat list.\n",
    "# 44.\tWrite a comprehension that keeps only unique items from a list while preserving order.\n",
    "# 45.\tFind all indices (positions) where a given number appears in a list.\n",
    "# 46.\tGenerate all palindromic numbers (as strings) between 1 and 999.\n",
    "# 47.\tConvert a dictionary like {'a':[1,2], 'b':[3]} into a list of (key, value) pairs.\n",
    "# 48.\tCreate a list of prime pairs (p, q) where both are primes under 100 and p + q is also prime.\n",
    "# 49.\tCreate a lower-triangular matrix (n×n) with 1s below and on the diagonal, 0s above.\n",
    "# 50.\tGenerate all possible sequences of length 4 from 'abcd' with no repeated letters.\n",
    "\n"
   ]
  },
  {
   "cell_type": "code",
   "execution_count": 111,
   "id": "9562014d-4d9e-4d60-8f69-125298becff3",
   "metadata": {},
   "outputs": [
    {
     "name": "stdout",
     "output_type": "stream",
     "text": [
      "[1, 2, 3, 4]\n"
     ]
    }
   ],
   "source": [
    "# 43.\tFlatten a 3-level nested list [[[1,2],[3]],[[4]]] into a single flat list.\n",
    "list1 = [[[1, 2],[3]],[[4]]]\n",
    "flattened = [item for sublist1 in list1 for sublist2 in sublist1 for item in sublist2]\n",
    "print(flattened)"
   ]
  },
  {
   "cell_type": "code",
   "execution_count": 113,
   "id": "81afd330-3de6-4eed-8b58-81272b2418e0",
   "metadata": {},
   "outputs": [
    {
     "name": "stdout",
     "output_type": "stream",
     "text": [
      "[1, 2, 3, 4, 5]\n"
     ]
    }
   ],
   "source": [
    "# 44.\tWrite a comprehension that keeps only unique items from a list while preserving order.\n",
    "items = [1, 2, 2, 3, 1, 4, 3, 5]\n",
    "unique_items = []\n",
    "[unique_items.append(x) for x in items if x not in unique_items]\n",
    "print(unique_items)"
   ]
  },
  {
   "cell_type": "code",
   "execution_count": 115,
   "id": "6bf46bea-5118-4de6-8122-aa20df519a49",
   "metadata": {},
   "outputs": [
    {
     "name": "stdout",
     "output_type": "stream",
     "text": [
      "[2, 5, 6]\n"
     ]
    }
   ],
   "source": [
    "# 45.\tFind all indices (positions) where a given number appears in a list.\n",
    "l1=[1,2,3,1,2,3,3,2,1]\n",
    "l2=[i for i,x in enumerate(l1) if x==3]\n",
    "print(l2)\n"
   ]
  },
  {
   "cell_type": "code",
   "execution_count": 117,
   "id": "b9baf38f-b9df-4980-b6c4-bbd82e3b57cd",
   "metadata": {},
   "outputs": [
    {
     "name": "stdout",
     "output_type": "stream",
     "text": [
      "[1, 2, 3, 4, 5, 6, 7, 8, 9, 11, 22, 33, 44, 55, 66, 77, 88, 99, 101, 111, 121, 131, 141, 151, 161, 171, 181, 191, 202, 212, 222, 232, 242, 252, 262, 272, 282, 292, 303, 313, 323, 333, 343, 353, 363, 373, 383, 393, 404, 414, 424, 434, 444, 454, 464, 474, 484, 494, 505, 515, 525, 535, 545, 555, 565, 575, 585, 595, 606, 616, 626, 636, 646, 656, 666, 676, 686, 696, 707, 717, 727, 737, 747, 757, 767, 777, 787, 797, 808, 818, 828, 838, 848, 858, 868, 878, 888, 898, 909, 919, 929, 939, 949, 959, 969, 979, 989, 999]\n"
     ]
    }
   ],
   "source": [
    "# 46.\tGenerate all palindromic numbers (as strings) between 1 and 999.\n",
    "pal=[x for x in range(1,1000) if str(x)==str(x)[::-1]]\n",
    "print(pal)"
   ]
  },
  {
   "cell_type": "code",
   "execution_count": 119,
   "id": "6f40953a-9066-410b-9343-f42ec4deac2d",
   "metadata": {},
   "outputs": [
    {
     "name": "stdout",
     "output_type": "stream",
     "text": [
      "[('a', [1, 2]), ('b', [3])]\n"
     ]
    }
   ],
   "source": [
    "# 47.\tConvert a dictionary like {'a':[1,2], 'b':[3]} into a list of (key, value) pairs.\n",
    "dict={'a':[1,2], 'b':[3]}\n",
    "list1=[(key,value) for key,value in dict.items()]\n",
    "print(list1)"
   ]
  },
  {
   "cell_type": "code",
   "execution_count": 121,
   "id": "3ac4963c-f314-43f9-b6e9-da9f90fc7904",
   "metadata": {},
   "outputs": [
    {
     "name": "stdout",
     "output_type": "stream",
     "text": [
      "[(2, 3), (2, 5), (2, 11), (2, 17), (2, 29), (2, 41), (2, 59), (2, 71), (3, 2), (4, 3), (4, 7), (4, 13), (4, 19), (4, 37), (4, 43), (4, 67), (4, 79), (5, 2), (6, 5), (6, 7), (6, 11), (6, 13), (6, 17), (6, 23), (6, 31), (6, 37), (6, 41), (6, 47), (6, 53), (6, 61), (6, 67), (6, 73), (6, 83), (8, 3), (8, 5), (8, 11), (8, 23), (8, 29), (8, 53), (8, 59), (8, 71), (8, 89), (9, 2), (10, 3), (10, 7), (10, 13), (10, 19), (10, 31), (10, 37), (10, 43), (10, 61), (10, 73), (10, 79), (11, 2), (12, 5), (12, 7), (12, 11), (12, 17), (12, 19), (12, 29), (12, 31), (12, 41), (12, 47), (12, 59), (12, 61), (12, 67), (12, 71), (14, 3), (14, 5), (14, 17), (14, 23), (14, 29), (14, 47), (14, 53), (14, 59), (14, 83), (15, 2), (16, 3), (16, 7), (16, 13), (16, 31), (16, 37), (16, 43), (16, 67), (16, 73), (17, 2), (18, 5), (18, 11), (18, 13), (18, 19), (18, 23), (18, 29), (18, 41), (18, 43), (18, 53), (18, 61), (18, 71), (18, 79), (20, 3), (20, 11), (20, 17), (20, 23), (20, 41), (20, 47), (20, 53), (20, 59), (21, 2), (22, 7), (22, 19), (22, 31), (22, 37), (22, 61), (22, 67), (24, 5), (24, 7), (24, 13), (24, 17), (24, 19), (24, 23), (24, 29), (24, 37), (24, 43), (24, 47), (24, 59), (24, 73), (26, 3), (26, 5), (26, 11), (26, 17), (26, 41), (26, 47), (26, 53), (26, 71), (27, 2), (28, 3), (28, 13), (28, 19), (28, 31), (28, 43), (28, 61), (29, 2), (30, 7), (30, 11), (30, 13), (30, 17), (30, 23), (30, 29), (30, 31), (30, 37), (30, 41), (30, 43), (30, 53), (30, 59), (30, 67), (32, 5), (32, 11), (32, 29), (32, 41), (32, 47), (34, 3), (34, 7), (34, 13), (34, 19), (34, 37), (35, 2), (36, 5), (36, 7), (36, 11), (36, 17), (36, 23), (36, 31), (36, 37), (36, 43), (36, 47), (36, 53), (36, 61), (38, 3), (38, 5), (38, 23), (38, 29), (38, 41), (38, 59), (39, 2), (40, 3), (40, 7), (40, 13), (40, 19), (40, 31), (40, 43), (41, 2), (42, 5), (42, 11), (42, 17), (42, 19), (42, 29), (42, 31), (42, 37), (42, 41), (42, 47), (44, 3), (44, 17), (44, 23), (44, 29), (44, 53), (45, 2), (46, 7), (46, 13), (46, 37), (46, 43), (48, 5), (48, 11), (48, 13), (48, 19), (48, 23), (48, 31), (48, 41), (50, 3), (50, 11), (50, 17), (50, 23), (50, 29), (50, 47), (51, 2), (52, 7), (52, 19), (52, 31), (52, 37), (54, 5), (54, 7), (54, 13), (54, 17), (54, 19), (54, 29), (54, 43), (56, 3), (56, 5), (56, 11), (56, 17), (56, 23), (56, 41), (57, 2), (58, 3), (58, 13), (58, 31), (59, 2), (60, 7), (60, 11), (60, 13), (60, 19), (60, 23), (60, 29), (60, 37), (62, 5), (62, 11), (62, 17), (64, 3), (64, 7), (64, 19), (65, 2), (66, 5), (66, 7), (66, 13), (66, 17), (66, 23), (66, 31), (68, 3), (68, 5), (68, 11), (68, 29), (69, 2), (70, 3), (70, 13), (70, 19), (71, 2), (72, 7), (72, 11), (72, 17), (74, 5), (74, 23), (76, 3), (76, 7), (76, 13), (77, 2), (78, 5), (78, 11), (78, 19), (80, 3), (80, 17), (81, 2), (82, 7), (84, 5), (84, 13), (86, 3), (86, 11), (87, 2), (90, 7), (92, 5), (94, 3), (95, 2)]\n"
     ]
    }
   ],
   "source": [
    "# 48.\tCreate a list of prime pairs (p, q) where both are primes under 100 and p + q is also prime.\n",
    "list1=[x for x in range(2,100)]\n",
    "list2=[x for x in range(2,100) if all(x%i!=0 for i in range(2,x))]\n",
    "list3=[(p,q) for p in list1 for q in list2 if p+q in list2]\n",
    "print(list3)"
   ]
  },
  {
   "cell_type": "code",
   "execution_count": 123,
   "id": "2f46dcc8-2c90-4e8b-806c-5c0d1b4102f0",
   "metadata": {},
   "outputs": [
    {
     "name": "stdout",
     "output_type": "stream",
     "text": [
      "[1, 0, 0, 0]\n",
      "[1, 1, 0, 0]\n",
      "[1, 1, 1, 0]\n",
      "[1, 1, 1, 1]\n"
     ]
    }
   ],
   "source": [
    "# 49.\tCreate a lower-triangular matrix (n×n) with 1s below and on the diagonal, 0s above.\n",
    "n = 4\n",
    "lower_triangular = [[1 if j <= i else 0 for j in range(n)] for i in range(n)]\n",
    "for row in lower_triangular:\n",
    "    print(row)"
   ]
  },
  {
   "cell_type": "code",
   "execution_count": 125,
   "id": "0839234a-8333-44d4-89b1-cc0a12bb31ea",
   "metadata": {},
   "outputs": [
    {
     "name": "stdout",
     "output_type": "stream",
     "text": [
      "['abcd', 'abdc', 'acbd', 'acdb', 'adbc', 'adcb', 'bacd', 'badc', 'bcad', 'bcda', 'bdac', 'bdca', 'cabd', 'cadb', 'cbad', 'cbda', 'cdab', 'cdba', 'dabc', 'dacb', 'dbac', 'dbca', 'dcab', 'dcba']\n"
     ]
    }
   ],
   "source": [
    "# 50.\tGenerate all possible sequences of length 4 from 'abcd' with no repeated letters.\n",
    "from itertools import permutations\n",
    "chars = 'abcd'\n",
    "sequences = [''.join(p) for p in permutations(chars, 4)]\n",
    "print(sequences)"
   ]
  },
  {
   "cell_type": "code",
   "execution_count": null,
   "id": "ca1d228d-08fc-4bf1-bbdd-7c2a3ef257ff",
   "metadata": {},
   "outputs": [],
   "source": []
  }
 ],
 "metadata": {
  "kernelspec": {
   "display_name": "Python [conda env:anaconda3] *",
   "language": "python",
   "name": "conda-env-anaconda3-py"
  },
  "language_info": {
   "codemirror_mode": {
    "name": "ipython",
    "version": 3
   },
   "file_extension": ".py",
   "mimetype": "text/x-python",
   "name": "python",
   "nbconvert_exporter": "python",
   "pygments_lexer": "ipython3",
   "version": "3.12.7"
  }
 },
 "nbformat": 4,
 "nbformat_minor": 5
}
